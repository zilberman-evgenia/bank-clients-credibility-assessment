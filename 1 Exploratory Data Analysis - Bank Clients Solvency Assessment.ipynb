{
 "cells": [
  {
   "cell_type": "markdown",
   "metadata": {},
   "source": [
    "# 1 Exploratory Data Analysis - Bank Clients Credibility Assessment "
   ]
  },
  {
   "cell_type": "markdown",
   "metadata": {},
   "source": [
    "The customer is the credit department of the bank. The goal of the study it to find out whether the marital status, the purpose of the loan, the level of income and the number of children affect the fact of repaying the loan on time."
   ]
  },
  {
   "cell_type": "markdown",
   "metadata": {},
   "source": [
    "## Contents\n",
    "<ol>\n",
    "<li>Describing the Data</li>\n",
    "<li>Data Preprocessing</li>\n",
    "<li>Exploratory Data Analysis</li>\n",
    "<li>Conclusion</li>\n",
    "</ol>"
   ]
  },
  {
   "cell_type": "markdown",
   "metadata": {},
   "source": [
    "## 1. Describing the Data"
   ]
  },
  {
   "cell_type": "code",
   "execution_count": 1,
   "metadata": {},
   "outputs": [],
   "source": [
    "import pandas as pd"
   ]
  },
  {
   "cell_type": "code",
   "execution_count": 2,
   "metadata": {},
   "outputs": [
    {
     "data": {
      "text/html": [
       "<div>\n",
       "<style scoped>\n",
       "    .dataframe tbody tr th:only-of-type {\n",
       "        vertical-align: middle;\n",
       "    }\n",
       "\n",
       "    .dataframe tbody tr th {\n",
       "        vertical-align: top;\n",
       "    }\n",
       "\n",
       "    .dataframe thead th {\n",
       "        text-align: right;\n",
       "    }\n",
       "</style>\n",
       "<table border=\"1\" class=\"dataframe\">\n",
       "  <thead>\n",
       "    <tr style=\"text-align: right;\">\n",
       "      <th></th>\n",
       "      <th>children</th>\n",
       "      <th>dob_years</th>\n",
       "      <th>education</th>\n",
       "      <th>marital_status</th>\n",
       "      <th>gender</th>\n",
       "      <th>income_type</th>\n",
       "      <th>debt</th>\n",
       "      <th>total_income</th>\n",
       "      <th>purpose</th>\n",
       "    </tr>\n",
       "  </thead>\n",
       "  <tbody>\n",
       "    <tr>\n",
       "      <th>0</th>\n",
       "      <td>1</td>\n",
       "      <td>42</td>\n",
       "      <td>GRADUATE</td>\n",
       "      <td>married</td>\n",
       "      <td>F</td>\n",
       "      <td>employee</td>\n",
       "      <td>0</td>\n",
       "      <td>253875.6395</td>\n",
       "      <td>buying a home</td>\n",
       "    </tr>\n",
       "    <tr>\n",
       "      <th>1</th>\n",
       "      <td>1</td>\n",
       "      <td>36</td>\n",
       "      <td>high school</td>\n",
       "      <td>married</td>\n",
       "      <td>F</td>\n",
       "      <td>employee</td>\n",
       "      <td>0</td>\n",
       "      <td>112080.0141</td>\n",
       "      <td>car purchase</td>\n",
       "    </tr>\n",
       "    <tr>\n",
       "      <th>2</th>\n",
       "      <td>0</td>\n",
       "      <td>33</td>\n",
       "      <td>high school</td>\n",
       "      <td>married</td>\n",
       "      <td>M</td>\n",
       "      <td>employee</td>\n",
       "      <td>0</td>\n",
       "      <td>145885.9523</td>\n",
       "      <td>buying a home</td>\n",
       "    </tr>\n",
       "    <tr>\n",
       "      <th>3</th>\n",
       "      <td>3</td>\n",
       "      <td>32</td>\n",
       "      <td>high school</td>\n",
       "      <td>married</td>\n",
       "      <td>M</td>\n",
       "      <td>employee</td>\n",
       "      <td>0</td>\n",
       "      <td>267628.5503</td>\n",
       "      <td>degree</td>\n",
       "    </tr>\n",
       "    <tr>\n",
       "      <th>4</th>\n",
       "      <td>0</td>\n",
       "      <td>53</td>\n",
       "      <td>high school</td>\n",
       "      <td>married</td>\n",
       "      <td>F</td>\n",
       "      <td>retiree</td>\n",
       "      <td>0</td>\n",
       "      <td>158616.0779</td>\n",
       "      <td>get married</td>\n",
       "    </tr>\n",
       "  </tbody>\n",
       "</table>\n",
       "</div>"
      ],
      "text/plain": [
       "   children  dob_years    education marital_status gender income_type  debt  \\\n",
       "0         1         42     GRADUATE        married      F    employee     0   \n",
       "1         1         36  high school        married      F    employee     0   \n",
       "2         0         33  high school        married      M    employee     0   \n",
       "3         3         32  high school        married      M    employee     0   \n",
       "4         0         53  high school        married      F     retiree     0   \n",
       "\n",
       "   total_income        purpose  \n",
       "0   253875.6395  buying a home  \n",
       "1   112080.0141   car purchase  \n",
       "2   145885.9523  buying a home  \n",
       "3   267628.5503         degree  \n",
       "4   158616.0779    get married  "
      ]
     },
     "execution_count": 2,
     "metadata": {},
     "output_type": "execute_result"
    }
   ],
   "source": [
    "logs=pd.read_csv('loans.csv')\n",
    "logs.head()"
   ]
  },
  {
   "cell_type": "code",
   "execution_count": 3,
   "metadata": {},
   "outputs": [
    {
     "name": "stdout",
     "output_type": "stream",
     "text": [
      "<class 'pandas.core.frame.DataFrame'>\n",
      "RangeIndex: 21525 entries, 0 to 21524\n",
      "Data columns (total 9 columns):\n",
      " #   Column          Non-Null Count  Dtype  \n",
      "---  ------          --------------  -----  \n",
      " 0   children        21525 non-null  int64  \n",
      " 1   dob_years       21525 non-null  int64  \n",
      " 2   education       21525 non-null  object \n",
      " 3   marital_status  21525 non-null  object \n",
      " 4   gender          21525 non-null  object \n",
      " 5   income_type     21525 non-null  object \n",
      " 6   debt            21525 non-null  int64  \n",
      " 7   total_income    19351 non-null  float64\n",
      " 8   purpose         21525 non-null  object \n",
      "dtypes: float64(1), int64(3), object(5)\n",
      "memory usage: 1.5+ MB\n"
     ]
    }
   ],
   "source": [
    "logs.info()"
   ]
  },
  {
   "cell_type": "markdown",
   "metadata": {},
   "source": [
    "The dataset has 8 variables and 21525 records. Variables include age, marital status, the amount of children, level of education, gender, income, type of income and employment, the purpose of the requested loan and status of the loan."
   ]
  },
  {
   "cell_type": "code",
   "execution_count": 4,
   "metadata": {},
   "outputs": [
    {
     "data": {
      "text/html": [
       "<div>\n",
       "<style scoped>\n",
       "    .dataframe tbody tr th:only-of-type {\n",
       "        vertical-align: middle;\n",
       "    }\n",
       "\n",
       "    .dataframe tbody tr th {\n",
       "        vertical-align: top;\n",
       "    }\n",
       "\n",
       "    .dataframe thead th {\n",
       "        text-align: right;\n",
       "    }\n",
       "</style>\n",
       "<table border=\"1\" class=\"dataframe\">\n",
       "  <thead>\n",
       "    <tr style=\"text-align: right;\">\n",
       "      <th></th>\n",
       "      <th>children</th>\n",
       "      <th>dob_years</th>\n",
       "      <th>debt</th>\n",
       "      <th>total_income</th>\n",
       "    </tr>\n",
       "  </thead>\n",
       "  <tbody>\n",
       "    <tr>\n",
       "      <th>count</th>\n",
       "      <td>21525.000000</td>\n",
       "      <td>21525.000000</td>\n",
       "      <td>21525.000000</td>\n",
       "      <td>1.935100e+04</td>\n",
       "    </tr>\n",
       "    <tr>\n",
       "      <th>mean</th>\n",
       "      <td>0.538908</td>\n",
       "      <td>43.293380</td>\n",
       "      <td>0.080883</td>\n",
       "      <td>1.674223e+05</td>\n",
       "    </tr>\n",
       "    <tr>\n",
       "      <th>std</th>\n",
       "      <td>1.381587</td>\n",
       "      <td>12.574584</td>\n",
       "      <td>0.272661</td>\n",
       "      <td>1.029716e+05</td>\n",
       "    </tr>\n",
       "    <tr>\n",
       "      <th>min</th>\n",
       "      <td>-1.000000</td>\n",
       "      <td>0.000000</td>\n",
       "      <td>0.000000</td>\n",
       "      <td>2.066726e+04</td>\n",
       "    </tr>\n",
       "    <tr>\n",
       "      <th>25%</th>\n",
       "      <td>0.000000</td>\n",
       "      <td>33.000000</td>\n",
       "      <td>0.000000</td>\n",
       "      <td>1.030532e+05</td>\n",
       "    </tr>\n",
       "    <tr>\n",
       "      <th>50%</th>\n",
       "      <td>0.000000</td>\n",
       "      <td>42.000000</td>\n",
       "      <td>0.000000</td>\n",
       "      <td>1.450179e+05</td>\n",
       "    </tr>\n",
       "    <tr>\n",
       "      <th>75%</th>\n",
       "      <td>1.000000</td>\n",
       "      <td>53.000000</td>\n",
       "      <td>0.000000</td>\n",
       "      <td>2.034351e+05</td>\n",
       "    </tr>\n",
       "    <tr>\n",
       "      <th>max</th>\n",
       "      <td>20.000000</td>\n",
       "      <td>75.000000</td>\n",
       "      <td>1.000000</td>\n",
       "      <td>2.265604e+06</td>\n",
       "    </tr>\n",
       "  </tbody>\n",
       "</table>\n",
       "</div>"
      ],
      "text/plain": [
       "           children     dob_years          debt  total_income\n",
       "count  21525.000000  21525.000000  21525.000000  1.935100e+04\n",
       "mean       0.538908     43.293380      0.080883  1.674223e+05\n",
       "std        1.381587     12.574584      0.272661  1.029716e+05\n",
       "min       -1.000000      0.000000      0.000000  2.066726e+04\n",
       "25%        0.000000     33.000000      0.000000  1.030532e+05\n",
       "50%        0.000000     42.000000      0.000000  1.450179e+05\n",
       "75%        1.000000     53.000000      0.000000  2.034351e+05\n",
       "max       20.000000     75.000000      1.000000  2.265604e+06"
      ]
     },
     "execution_count": 4,
     "metadata": {},
     "output_type": "execute_result"
    }
   ],
   "source": [
    "logs.describe()"
   ]
  },
  {
   "cell_type": "markdown",
   "metadata": {},
   "source": [
    "**dob_years** - the age in years, int variable, has null values\n",
    "\n",
    "**total_income** - numerical variable, should be converted into int and grouped by the levels of income, has outliers and gaps"
   ]
  },
  {
   "cell_type": "code",
   "execution_count": 5,
   "metadata": {},
   "outputs": [
    {
     "data": {
      "text/plain": [
       "1     1741\n",
       "0    19784\n",
       "Name: debt, dtype: int64"
      ]
     },
     "execution_count": 5,
     "metadata": {},
     "output_type": "execute_result"
    }
   ],
   "source": [
    "logs['debt'].value_counts().sort_values()"
   ]
  },
  {
   "cell_type": "markdown",
   "metadata": {},
   "source": [
    "**debt** - categorical variable, has no gaps\n",
    "\n",
    "19784 of clients repaid the debts on time, 1741 - no"
   ]
  },
  {
   "cell_type": "code",
   "execution_count": 6,
   "metadata": {},
   "outputs": [
    {
     "data": {
      "text/plain": [
       " 5         9\n",
       " 4        41\n",
       "-1        47\n",
       " 20       76\n",
       " 3       330\n",
       " 2      2055\n",
       " 1      4818\n",
       " 0     14149\n",
       "Name: children, dtype: int64"
      ]
     },
     "execution_count": 6,
     "metadata": {},
     "output_type": "execute_result"
    }
   ],
   "source": [
    "logs['children'].value_counts().sort_values()"
   ]
  },
  {
   "cell_type": "markdown",
   "metadata": {},
   "source": [
    "**children** - the amount of children the client has, numeric value. 47 clients have -1 (that should be a mistake) and 76 clients have 20 (which also looks like a mistake)"
   ]
  },
  {
   "cell_type": "code",
   "execution_count": 7,
   "metadata": {},
   "outputs": [
    {
     "data": {
      "text/plain": [
       "High School             3\n",
       "phd                     6\n",
       "secondary school      282\n",
       "underGRADUATE         744\n",
       "GRADUATE             5260\n",
       "high school         15230\n",
       "Name: education, dtype: int64"
      ]
     },
     "execution_count": 7,
     "metadata": {},
     "output_type": "execute_result"
    }
   ],
   "source": [
    "logs['education'].value_counts().sort_values()"
   ]
  },
  {
   "cell_type": "markdown",
   "metadata": {},
   "source": [
    "**education** - categorical variable (phd, secondary school, undergraduate, graduate, high school), no gaps, values should be lowercased"
   ]
  },
  {
   "cell_type": "code",
   "execution_count": 8,
   "metadata": {},
   "outputs": [
    {
     "data": {
      "text/plain": [
       "widow / widower      960\n",
       "divorced            1195\n",
       "single              2813\n",
       "married            16557\n",
       "Name: marital_status, dtype: int64"
      ]
     },
     "execution_count": 8,
     "metadata": {},
     "output_type": "execute_result"
    }
   ],
   "source": [
    "logs['marital_status'].value_counts().sort_values()"
   ]
  },
  {
   "cell_type": "markdown",
   "metadata": {},
   "source": [
    "**marital_status** - categorical variable (widow/widower, divorced, signle or married), no gaps"
   ]
  },
  {
   "cell_type": "code",
   "execution_count": 9,
   "metadata": {},
   "outputs": [
    {
     "data": {
      "text/plain": [
       "XNA        1\n",
       "M       7288\n",
       "F      14236\n",
       "Name: gender, dtype: int64"
      ]
     },
     "execution_count": 9,
     "metadata": {},
     "output_type": "execute_result"
    }
   ],
   "source": [
    "logs['gender'].value_counts().sort_values()"
   ]
  },
  {
   "cell_type": "markdown",
   "metadata": {},
   "source": [
    "**gender** - categorical variable, has 2 values (M and F), 1 outlier, no gaps"
   ]
  },
  {
   "cell_type": "code",
   "execution_count": 10,
   "metadata": {},
   "outputs": [
    {
     "data": {
      "text/plain": [
       "public employee     1459\n",
       "retiree             3856\n",
       "unemployed          5089\n",
       "employee           11121\n",
       "Name: income_type, dtype: int64"
      ]
     },
     "execution_count": 10,
     "metadata": {},
     "output_type": "execute_result"
    }
   ],
   "source": [
    "logs['income_type'].value_counts().sort_values()"
   ]
  },
  {
   "cell_type": "markdown",
   "metadata": {},
   "source": [
    "**income_type** - categorical variable (public employee, retiree, unemployed, employee), no gaps"
   ]
  },
  {
   "cell_type": "code",
   "execution_count": 11,
   "metadata": {},
   "outputs": [
    {
     "data": {
      "text/plain": [
       "1     1741\n",
       "0    19784\n",
       "Name: debt, dtype: int64"
      ]
     },
     "execution_count": 11,
     "metadata": {},
     "output_type": "execute_result"
    }
   ],
   "source": [
    "logs['debt'].value_counts().sort_values()"
   ]
  },
  {
   "cell_type": "markdown",
   "metadata": {},
   "source": [
    "**debt** - categorical variable. 0 if the loan is repaid (19784 clients), 1 if not (1741 clients), no gaps"
   ]
  },
  {
   "cell_type": "code",
   "execution_count": 12,
   "metadata": {},
   "outputs": [
    {
     "data": {
      "text/plain": [
       "specialized education                       436\n",
       "car deal                                    455\n",
       "degree                                      462\n",
       "car purchase                                462\n",
       "cars                                        478\n",
       "to buy a used car                           479\n",
       "car                                         480\n",
       "used car deal                               489\n",
       "automobile                                  495\n",
       "purchase of residential property            607\n",
       "home renovation                             612\n",
       "buying home                                 620\n",
       "real estate                                 620\n",
       "buying a property                           624\n",
       "construction of residential real estate     626\n",
       "transactions with real estate               630\n",
       "property                                    634\n",
       "house construction                          635\n",
       "buying a family home                        641\n",
       "buying a home                               647\n",
       "housing                                     647\n",
       "commercial real estate transactions         651\n",
       "housing transactions                        653\n",
       "buying a rental property                    653\n",
       "purchase of commercial property             664\n",
       "real estate transactions                    676\n",
       "get married                                 774\n",
       "for a wedding                               777\n",
       "wedding                                     797\n",
       "to buy a car                                977\n",
       "higher education                           1375\n",
       "education                                  1749\n",
       "Name: purpose, dtype: int64"
      ]
     },
     "execution_count": 12,
     "metadata": {},
     "output_type": "execute_result"
    }
   ],
   "source": [
    "logs['purpose'].value_counts().sort_values()"
   ]
  },
  {
   "cell_type": "markdown",
   "metadata": {},
   "source": [
    "**purpose** - the purpose of the loan, categorical variable, has duplicates"
   ]
  },
  {
   "cell_type": "markdown",
   "metadata": {},
   "source": [
    "## Step 2. Data Preprocessing"
   ]
  },
  {
   "cell_type": "markdown",
   "metadata": {},
   "source": [
    "### 2.1 Replacing 'XNA' with \"F\" as this dataset has almost twice as many women as men"
   ]
  },
  {
   "cell_type": "code",
   "execution_count": 13,
   "metadata": {},
   "outputs": [
    {
     "data": {
      "text/plain": [
       "M     7288\n",
       "F    14237\n",
       "Name: gender, dtype: int64"
      ]
     },
     "execution_count": 13,
     "metadata": {},
     "output_type": "execute_result"
    }
   ],
   "source": [
    "logs.loc[logs['gender'] == 'XNA', 'gender'] = \"F\"\n",
    "logs['gender'].value_counts().sort_values()"
   ]
  },
  {
   "cell_type": "markdown",
   "metadata": {},
   "source": [
    "### 2.2 Replacing value -1 with 0 in children"
   ]
  },
  {
   "cell_type": "markdown",
   "metadata": {},
   "source": [
    "Let's consider these negative values as the absence of children"
   ]
  },
  {
   "cell_type": "code",
   "execution_count": 14,
   "metadata": {},
   "outputs": [
    {
     "data": {
      "text/plain": [
       "5         9\n",
       "4        41\n",
       "20       76\n",
       "3       330\n",
       "2      2055\n",
       "1      4818\n",
       "0     14196\n",
       "Name: children, dtype: int64"
      ]
     },
     "execution_count": 14,
     "metadata": {},
     "output_type": "execute_result"
    }
   ],
   "source": [
    "logs.loc[logs['children'] == -1, 'children'] = 0\n",
    "logs['children'].value_counts().sort_values()"
   ]
  },
  {
   "cell_type": "markdown",
   "metadata": {},
   "source": [
    "### 2.3 Handling nulls in dob_years"
   ]
  },
  {
   "cell_type": "markdown",
   "metadata": {},
   "source": [
    "The variable dob_years (age) contains 101 zero values, let's check if these gaps are random"
   ]
  },
  {
   "cell_type": "code",
   "execution_count": 15,
   "metadata": {},
   "outputs": [
    {
     "data": {
      "text/plain": [
       "employee           55\n",
       "unemployed         20\n",
       "retiree            20\n",
       "public employee     6\n",
       "Name: income_type, dtype: int64"
      ]
     },
     "execution_count": 15,
     "metadata": {},
     "output_type": "execute_result"
    }
   ],
   "source": [
    "logs.loc[logs['dob_years'] == 0]['income_type'].value_counts()"
   ]
  },
  {
   "cell_type": "markdown",
   "metadata": {},
   "source": [
    "Gap values occur in all categories of employment, let's replace them with the average values per employment type, rounded to the nearest integer"
   ]
  },
  {
   "cell_type": "code",
   "execution_count": 16,
   "metadata": {},
   "outputs": [],
   "source": [
    "employee=logs.loc[logs['income_type'] == 'employee']['dob_years'].mean()\n",
    "unemployed=logs.loc[logs['income_type'] == 'unemployed']['dob_years'].mean()\n",
    "retiree=logs.loc[logs['income_type'] == 'retiree']['dob_years'].mean()\n",
    "public_employee=logs.loc[logs['income_type'] == 'public employee']['dob_years'].mean()\n",
    "\n",
    "logs.loc[(logs['dob_years'] == 0) & (logs['income_type'] == 'employee'), 'dob_years'] = round(employee)\n",
    "logs.loc[(logs['dob_years'] == 0) & (logs['income_type'] == 'unemployed'), 'dob_years'] = round(unemployed)\n",
    "logs.loc[(logs['dob_years'] == 0) & (logs['income_type'] == 'retiree'), 'dob_years'] = round(retiree)\n",
    "logs.loc[(logs['dob_years'] == 0) & (logs['income_type'] == 'public employee'), 'dob_years'] = round(public_employee)"
   ]
  },
  {
   "cell_type": "markdown",
   "metadata": {},
   "source": [
    "### 2.4 Handling nulls in total_income"
   ]
  },
  {
   "cell_type": "markdown",
   "metadata": {},
   "source": [
    "total_income vatiable contains 2174 gaps, let's check if these gaps are random"
   ]
  },
  {
   "cell_type": "code",
   "execution_count": 17,
   "metadata": {},
   "outputs": [
    {
     "data": {
      "text/plain": [
       "employee           1106\n",
       "unemployed          508\n",
       "retiree             413\n",
       "public employee     147\n",
       "Name: income_type, dtype: int64"
      ]
     },
     "execution_count": 17,
     "metadata": {},
     "output_type": "execute_result"
    }
   ],
   "source": [
    "logs['total_income'].fillna(0, inplace=True)\n",
    "logs.loc[logs['total_income'] == 0]['income_type'].value_counts()"
   ]
  },
  {
   "cell_type": "markdown",
   "metadata": {},
   "source": [
    "Gap values occur in all categories of employment, let's replace them with the average values per employment type"
   ]
  },
  {
   "cell_type": "code",
   "execution_count": 18,
   "metadata": {},
   "outputs": [],
   "source": [
    "logs.loc[(logs['income_type'] == 0) & (logs['income_type'] == 'employee'), 'total_income'] = logs.loc[logs['income_type'] == 'employee']['total_income'].mean()\n",
    "logs.loc[(logs['income_type'] == 0) & (logs['income_type'] == 'unemployed'), 'total_income'] = logs.loc[logs['income_type'] == 'unemployed']['total_income'].mean()\n",
    "logs.loc[(logs['income_type'] == 0) & (logs['income_type'] == 'retiree'), 'total_income'] = logs.loc[logs['income_type'] == 'retiree']['total_income'].mean()\n",
    "logs.loc[(logs['income_type'] == 0) & (logs['income_type'] == 'public employee'), 'total_income'] = logs.loc[logs['income_type'] == 'public employee']['total_income'].mean()"
   ]
  },
  {
   "cell_type": "code",
   "execution_count": 19,
   "metadata": {},
   "outputs": [
    {
     "name": "stdout",
     "output_type": "stream",
     "text": [
      "<class 'pandas.core.frame.DataFrame'>\n",
      "RangeIndex: 21525 entries, 0 to 21524\n",
      "Data columns (total 9 columns):\n",
      " #   Column          Non-Null Count  Dtype  \n",
      "---  ------          --------------  -----  \n",
      " 0   children        21525 non-null  int64  \n",
      " 1   dob_years       21525 non-null  int64  \n",
      " 2   education       21525 non-null  object \n",
      " 3   marital_status  21525 non-null  object \n",
      " 4   gender          21525 non-null  object \n",
      " 5   income_type     21525 non-null  object \n",
      " 6   debt            21525 non-null  int64  \n",
      " 7   total_income    21525 non-null  float64\n",
      " 8   purpose         21525 non-null  object \n",
      "dtypes: float64(1), int64(3), object(5)\n",
      "memory usage: 1.5+ MB\n"
     ]
    }
   ],
   "source": [
    "logs.info()"
   ]
  },
  {
   "cell_type": "markdown",
   "metadata": {},
   "source": [
    "###  2.5 Changing Data Types "
   ]
  },
  {
   "cell_type": "markdown",
   "metadata": {},
   "source": [
    "Let's convert total_income into integer"
   ]
  },
  {
   "cell_type": "code",
   "execution_count": 20,
   "metadata": {},
   "outputs": [],
   "source": [
    "logs['total_income']=round(logs['total_income']).astype('int64')"
   ]
  },
  {
   "cell_type": "markdown",
   "metadata": {},
   "source": [
    "### 2.6 Lowercasing the values of education"
   ]
  },
  {
   "cell_type": "code",
   "execution_count": 21,
   "metadata": {},
   "outputs": [
    {
     "data": {
      "text/plain": [
       "phd                     6\n",
       "secondary school      282\n",
       "undergraduate         744\n",
       "graduate             5260\n",
       "high school         15233\n",
       "Name: education, dtype: int64"
      ]
     },
     "execution_count": 21,
     "metadata": {},
     "output_type": "execute_result"
    }
   ],
   "source": [
    "logs['education']=logs['education'].str.lower()\n",
    "logs['education'].value_counts().sort_values()"
   ]
  },
  {
   "cell_type": "markdown",
   "metadata": {},
   "source": [
    "### 2.7 Data Classification - Children"
   ]
  },
  {
   "cell_type": "markdown",
   "metadata": {},
   "source": [
    "Let's create additional categorial variable - has_children (**0** - for no or **1** - for yes)"
   ]
  },
  {
   "cell_type": "code",
   "execution_count": 22,
   "metadata": {},
   "outputs": [
    {
     "data": {
      "text/plain": [
       "1     7329\n",
       "0    14196\n",
       "Name: has_children, dtype: int64"
      ]
     },
     "execution_count": 22,
     "metadata": {},
     "output_type": "execute_result"
    }
   ],
   "source": [
    "logs.loc[logs['children'] == 0, 'has_children'] = 0\n",
    "logs.loc[logs['children'] != 0, 'has_children'] = 1\n",
    "logs['has_children']=round(logs['has_children']).astype('int64')\n",
    "\n",
    "logs['has_children'].value_counts().sort_values()"
   ]
  },
  {
   "cell_type": "markdown",
   "metadata": {},
   "source": [
    "### 2.8 Data Classification - Income"
   ]
  },
  {
   "cell_type": "markdown",
   "metadata": {},
   "source": [
    "Let's create additional categorial variable - income_level. We'll check the minimum, max, median and quantile values of the income variable to determine the levels"
   ]
  },
  {
   "cell_type": "code",
   "execution_count": 23,
   "metadata": {},
   "outputs": [
    {
     "name": "stdout",
     "output_type": "stream",
     "text": [
      "0\n",
      "78561.0\n",
      "135515.0\n",
      "214254.2\n",
      "2265604\n"
     ]
    }
   ],
   "source": [
    "print(logs['total_income'].min())\n",
    "print(logs['total_income'].quantile(.2))\n",
    "print(logs['total_income'].median())\n",
    "print(logs['total_income'].quantile(.8))\n",
    "print(logs['total_income'].max())\n",
    "\n",
    "income_max = logs['total_income'].max()"
   ]
  },
  {
   "cell_type": "markdown",
   "metadata": {},
   "source": [
    "80% of all values lie in the range from 0 to 250,0000, to get 6 steps of income, we will break customers into steps of 50K"
   ]
  },
  {
   "cell_type": "code",
   "execution_count": 29,
   "metadata": {},
   "outputs": [
    {
     "name": "stdout",
     "output_type": "stream",
     "text": [
      "<50K             372\n",
      "0               2174\n",
      "200K-249,99K    2254\n",
      ">=250K          2812\n",
      "50K-99,99K      4091\n",
      "150K-199,99K    4118\n",
      "100K-149,99K    5704\n",
      "Name: income_level, dtype: int64\n"
     ]
    }
   ],
   "source": [
    "logs.loc[logs['total_income'] == 0, 'income_level'] = 0\n",
    "logs.loc[(logs['total_income'] > 0) & (logs['total_income'] < 50000), 'income_level'] = '<50K'\n",
    "logs.loc[(logs['total_income'] >= 50000) & (logs['total_income'] <= 100000), 'income_level'] = '50K-99,99K'\n",
    "logs.loc[(logs['total_income'] >= 100000) & (logs['total_income'] <= 150000), 'income_level'] = '100K-149,99K'\n",
    "logs.loc[(logs['total_income'] >= 150000) & (logs['total_income'] <= 200000), 'income_level'] = '150K-199,99K'\n",
    "logs.loc[(logs['total_income'] >= 200000) & (logs['total_income'] <= 250000), 'income_level'] = '200K-249,99K'\n",
    "logs.loc[(logs['total_income'] >= 250000) & (logs['total_income'] <= income_max), 'income_level'] = '>=250K'\n",
    "\n",
    "print (logs['income_level'].value_counts().sort_values())"
   ]
  },
  {
   "cell_type": "markdown",
   "metadata": {},
   "source": [
    "### 2.9 Data Classification - Purpose"
   ]
  },
  {
   "cell_type": "markdown",
   "metadata": {},
   "source": [
    "Let's classify all purposes by keywords"
   ]
  },
  {
   "cell_type": "code",
   "execution_count": 33,
   "metadata": {},
   "outputs": [
    {
     "data": {
      "text/plain": [
       "wedding         2348\n",
       "education       4022\n",
       "car             4315\n",
       "real estate    10840\n",
       "Name: purpose, dtype: int64"
      ]
     },
     "execution_count": 33,
     "metadata": {},
     "output_type": "execute_result"
    }
   ],
   "source": [
    "logs.loc[logs['purpose'].str.contains('car'), 'purpose'] = 'car'\n",
    "logs.loc[logs['purpose'].str.contains('automobile'), 'purpose'] = 'car'\n",
    "logs.loc[logs['purpose'].str.contains('home'), 'purpose'] = 'real estate'\n",
    "logs.loc[logs['purpose'].str.contains('house'), 'purpose'] = 'real estate'\n",
    "logs.loc[logs['purpose'].str.contains('estate'), 'purpose'] = 'real estate'\n",
    "logs.loc[logs['purpose'].str.contains('housing'), 'purpose'] = 'real estate'\n",
    "logs.loc[logs['purpose'].str.contains('property'), 'purpose'] = 'real estate'\n",
    "logs.loc[logs['purpose'].str.contains('education'), 'purpose'] = 'education'\n",
    "logs.loc[logs['purpose'].str.contains('degree'), 'purpose'] = 'education'\n",
    "logs.loc[logs['purpose'].str.contains('wedding'), 'purpose'] = 'wedding'\n",
    "logs.loc[logs['purpose'].str.contains('married'), 'purpose'] = 'wedding'\n",
    "logs['purpose'].value_counts().sort_values()"
   ]
  },
  {
   "cell_type": "markdown",
   "metadata": {},
   "source": [
    "## 3. Exploratory Data Analysis"
   ]
  },
  {
   "cell_type": "markdown",
   "metadata": {},
   "source": [
    "### 3.1 Is there a dependency between having children and repaying the loan on time?"
   ]
  },
  {
   "cell_type": "code",
   "execution_count": 34,
   "metadata": {},
   "outputs": [
    {
     "data": {
      "text/plain": [
       "has_children\n",
       "0    7.495069\n",
       "1    9.237277\n",
       "Name: debt, dtype: float64"
      ]
     },
     "execution_count": 34,
     "metadata": {},
     "output_type": "execute_result"
    }
   ],
   "source": [
    "table_children = logs.groupby('has_children')['debt'].mean()*100\n",
    "table_children"
   ]
  },
  {
   "cell_type": "markdown",
   "metadata": {},
   "source": [
    "**Conclusion:** The clients without children repay the debts on time more often than the clients with children (9.23% of non-payers against 7.5%)."
   ]
  },
  {
   "cell_type": "markdown",
   "metadata": {},
   "source": [
    "### 3.2 Is there a dependency between marital status and repaying the loan on time?"
   ]
  },
  {
   "cell_type": "code",
   "execution_count": 36,
   "metadata": {},
   "outputs": [
    {
     "data": {
      "text/plain": [
       "marital_status\n",
       "single             9.740491\n",
       "married            7.966419\n",
       "divorced           7.112971\n",
       "widow / widower    6.562500\n",
       "Name: debt, dtype: float64"
      ]
     },
     "execution_count": 36,
     "metadata": {},
     "output_type": "execute_result"
    }
   ],
   "source": [
    "table_family_status = logs.groupby('marital_status')['debt'].mean()*100\n",
    "table_family_status.sort_values(ascending=False)"
   ]
  },
  {
   "cell_type": "markdown",
   "metadata": {},
   "source": [
    "**Conclusion:** Widows and widowers repay the debts on time more often than the married ones, divorced ones and singles (9.74%, 7.97%, 7.11% and 6.56% respectively)"
   ]
  },
  {
   "cell_type": "markdown",
   "metadata": {},
   "source": [
    "### 3.3 Is there a dependency between the level of income and repaying the loan on time?"
   ]
  },
  {
   "cell_type": "code",
   "execution_count": 37,
   "metadata": {},
   "outputs": [
    {
     "data": {
      "text/plain": [
       "income_level\n",
       "150K-199,99K    8.936377\n",
       "100K-149,99K    8.607994\n",
       "50K-99,99K      8.090931\n",
       "0               7.819687\n",
       "200K-249,99K    7.275954\n",
       ">=250K          6.899004\n",
       "<50K            6.182796\n",
       "Name: debt, dtype: float64"
      ]
     },
     "execution_count": 37,
     "metadata": {},
     "output_type": "execute_result"
    }
   ],
   "source": [
    "table_income_level = logs.groupby('income_level')['debt'].mean()*100\n",
    "table_income_level.sort_values(ascending=False)"
   ]
  },
  {
   "cell_type": "markdown",
   "metadata": {},
   "source": [
    "**Conclusion** The higher the income, the lower the percentage of returned loans among clients with income from 1 to 200,000\n",
    "\n",
    "The percentage of non-payers among clients with income > 200,000 is higher than among clients with income from 50,001 to 200,000, but lower than for clients with income from 0 to 50,000"
   ]
  },
  {
   "cell_type": "markdown",
   "metadata": {},
   "source": [
    "### 3.4 Is there a dependency between the purpose of the loan and repaying the loan on time?"
   ]
  },
  {
   "cell_type": "code",
   "execution_count": 38,
   "metadata": {},
   "outputs": [
    {
     "data": {
      "text/plain": [
       "purpose\n",
       "car            9.339513\n",
       "education      9.199403\n",
       "wedding        7.921635\n",
       "real estate    7.214022\n",
       "Name: debt, dtype: float64"
      ]
     },
     "execution_count": 38,
     "metadata": {},
     "output_type": "execute_result"
    }
   ],
   "source": [
    "table_income_level = logs.groupby('purpose')['debt'].mean()*100\n",
    "table_income_level.sort_values(ascending=False)"
   ]
  },
  {
   "cell_type": "markdown",
   "metadata": {},
   "source": [
    "The student loan repayment rate is roughly equal to the car loan repayment rate (9.34% against 9.2% of non-payers). \n",
    "\n",
    "The wedding  loan repayment rate is roughly equal to the real estate loan repayment rate (7.92% against 7.21% of non-payers). "
   ]
  },
  {
   "cell_type": "markdown",
   "metadata": {},
   "source": [
    "## Overall Conclusion"
   ]
  },
  {
   "cell_type": "markdown",
   "metadata": {},
   "source": [
    "More than 90% of all clients repay loans on time. Children, marital status, income level and the purpose of the loan have little effect on the repayment of loans on time, increasing or decreasing the chance of non-payments by only 1-2%.\n",
    "\n",
    "To simplify further work with the data, I would advise the bank to add picklists and conditions for the following variables: purpose (car, real estate, education, wedding), education (all values in lowercase letters), gender (only F or M), and rename the dob_years variable to age."
   ]
  },
  {
   "cell_type": "code",
   "execution_count": null,
   "metadata": {},
   "outputs": [],
   "source": []
  }
 ],
 "metadata": {
  "kernelspec": {
   "display_name": "Python 3",
   "language": "python",
   "name": "python3"
  },
  "language_info": {
   "codemirror_mode": {
    "name": "ipython",
    "version": 3
   },
   "file_extension": ".py",
   "mimetype": "text/x-python",
   "name": "python",
   "nbconvert_exporter": "python",
   "pygments_lexer": "ipython3",
   "version": "3.8.8"
  },
  "toc": {
   "base_numbering": 1,
   "nav_menu": {},
   "number_sections": true,
   "sideBar": true,
   "skip_h1_title": true,
   "title_cell": "Table of Contents",
   "title_sidebar": "Contents",
   "toc_cell": false,
   "toc_position": {},
   "toc_section_display": true,
   "toc_window_display": false
  }
 },
 "nbformat": 4,
 "nbformat_minor": 2
}
